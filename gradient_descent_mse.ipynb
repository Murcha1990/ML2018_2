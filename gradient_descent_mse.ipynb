{
 "cells": [
  {
   "cell_type": "markdown",
   "metadata": {},
   "source": [
    "# Градиентный спуск для линейной регрессии"
   ]
  },
  {
   "cell_type": "code",
   "execution_count": null,
   "metadata": {
    "collapsed": false
   },
   "outputs": [],
   "source": [
    "import numpy as np\n",
    "import time\n",
    "import random\n",
    "from matplotlib import pylab as plt\n",
    "%pylab inline"
   ]
  },
  {
   "cell_type": "markdown",
   "metadata": {},
   "source": [
    "# Задание\n",
    "\n",
    "Напишите с помощью цикла функцию, которая вычисляет градиент для среднеквадратичной функции потерь:\n",
    "$$\\nabla{Q(w)} = \\sum\\limits_{i=1}^l (\\langle w,x_i \\rangle - y_i)\\cdot x_i$$\n",
    "\n",
    "* для вычисления скалярного произведения используйте np.dot\n",
    "* так как в формуле стоит сумма, то вы можете на каждом шаге цикла добавлять в эту сумму новое слагаемое. Это можно сделать, например, с помощью np.add (array = np.add(array, new_term)\n",
    "* после вычисления суммы нормируйте градиент, то есть поделите его на свою длину (используйте np.linalg.norm)"
   ]
  },
  {
   "cell_type": "code",
   "execution_count": null,
   "metadata": {
    "collapsed": false
   },
   "outputs": [],
   "source": [
    "def mse_gradient(w, arr_x, y):\n",
    "    #your code here"
   ]
  },
  {
   "cell_type": "markdown",
   "metadata": {},
   "source": [
    "# Задание\n",
    "\n",
    "Напишите функцию, которая будет делать один шаг градиентного спуска, т.е. обновлять веса по формуле:\n",
    "$$w := w - \\nu\\cdot\\nabla Q(w)$$\n"
   ]
  },
  {
   "cell_type": "code",
   "execution_count": null,
   "metadata": {
    "collapsed": true
   },
   "outputs": [],
   "source": [
    "def gradiend_descent_step(w, arr_x, y, nu):\n",
    "    #your code here"
   ]
  },
  {
   "cell_type": "markdown",
   "metadata": {},
   "source": [
    "Сгенерируем зашумлённые данные для линейной регрессии"
   ]
  },
  {
   "cell_type": "code",
   "execution_count": null,
   "metadata": {
    "collapsed": false
   },
   "outputs": [],
   "source": [
    "N = 250\n",
    "y = np.arange(N)\n",
    "x = np.arange(N)\n",
    "for i in range(len(x)):\n",
    "    r = np.random.random(1)\n",
    "    if r > 0.5:\n",
    "        y[i] += 50*r\n",
    "    else:\n",
    "        r = np.random.random(1)\n",
    "        y[i] -= 50*r\n",
    "\n",
    "x = np.array([[1,elem] for elem in x])\n",
    "y = [[elem] for elem in y]\n",
    "\n",
    "plt.scatter(x[:,1],y)"
   ]
  },
  {
   "cell_type": "markdown",
   "metadata": {},
   "source": [
    "# Задание\n",
    "\n",
    "Проверьте работу написанных вами функций. Вызовите функцию gradient_descent_step в цикле и на каждом шаге обновляйте веса и рисуйте\n",
    "получившийся результат.\n",
    "\n",
    "Подберите оптимальное число шагов steps и оптимальное значение $\\nu$."
   ]
  },
  {
   "cell_type": "code",
   "execution_count": null,
   "metadata": {
    "collapsed": false,
    "scrolled": false
   },
   "outputs": [],
   "source": [
    "from IPython import display\n",
    "\n",
    "w = [0,0]\n",
    "X = x[:,1]\n",
    "\n",
    "steps = 100\n",
    "for i in range(steps):\n",
    "    w_new = gradiend_descent(w,x,y,0.0075) #find optimal gradient step\n",
    "    w = w_new\n",
    "    if i%10 == 0: #plot every 10th step\n",
    "        Y = w[0] + w[1] * X\n",
    "        \n",
    "        plt.clf()\n",
    "        plt.scatter(X, Y, color='blue')\n",
    "        plt.plot(X, Y, '-')\n",
    "        plt.scatter(X,y,color='green')\n",
    "        plt.show()\n",
    "        display.display(plt.gcf())\n",
    "        if i < steps-10:\n",
    "            display.clear_output(wait=True)\n",
    "        time.sleep(.1)\n",
    "w_new"
   ]
  },
  {
   "cell_type": "markdown",
   "metadata": {
    "collapsed": true
   },
   "source": [
    "# Задание\n",
    "\n",
    "Напишите функцию, которая считает градиент по одному случайно выбранному объекту:\n",
    "$$\\nabla{Q(w)} = (\\langle w,x_i \\rangle - y_i)\\cdot x_i,$$\n",
    "где $i$ - индекс случайно выбранного объекта (random.randint)"
   ]
  },
  {
   "cell_type": "code",
   "execution_count": null,
   "metadata": {
    "collapsed": false
   },
   "outputs": [],
   "source": [
    "def mse_gradient_stochastic(w, arr_x, y):\n",
    "    #your code here"
   ]
  },
  {
   "cell_type": "markdown",
   "metadata": {},
   "source": [
    "# Задание\n",
    "\n",
    "Добавьте в функцию gradient_descent_step параметр stochastic, который может быть равен True или False. Модифицируйте функцию таким образом,\n",
    "чтобы при stochastic = True она делала один шаг стохастического градиентного спуска, а при stochastic = False - один шаг\n",
    "обычного градиентного спуска.\n",
    "\n",
    "Измените функцию прямо в том месте, где она написана, без копирования."
   ]
  },
  {
   "cell_type": "markdown",
   "metadata": {},
   "source": [
    "# Задание\n",
    "\n",
    "Проверьте, как работает стохастический градиентный спуск на сгенерированных данных. Подберите оптимальные значения steps и \\nu."
   ]
  },
  {
   "cell_type": "code",
   "execution_count": 2,
   "metadata": {
    "collapsed": true
   },
   "outputs": [],
   "source": [
    "#your code here"
   ]
  }
 ],
 "metadata": {
  "kernelspec": {
   "display_name": "Python 2",
   "language": "python",
   "name": "python2"
  },
  "language_info": {
   "codemirror_mode": {
    "name": "ipython",
    "version": 2
   },
   "file_extension": ".py",
   "mimetype": "text/x-python",
   "name": "python",
   "nbconvert_exporter": "python",
   "pygments_lexer": "ipython2",
   "version": "2.7.12"
  }
 },
 "nbformat": 4,
 "nbformat_minor": 2
}
